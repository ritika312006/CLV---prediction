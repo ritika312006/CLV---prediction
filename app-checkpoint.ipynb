{
 "cells": [
  {
   "cell_type": "code",
   "execution_count": 7,
   "id": "64872600-530a-4b4a-806f-b8ee03babb67",
   "metadata": {},
   "outputs": [],
   "source": [
    "import pandas as pd  \n",
    "df = pd.read_csv(\"C:\\\\Users\\\\Hi\\\\Downloads\\\\online_retail_II(Year 2010-2011).csv\", encoding=\"unicode_escape\", parse_dates=['InvoiceDate'])\n"
   ]
  },
  {
   "cell_type": "code",
   "execution_count": 11,
   "id": "3eeff44c-1014-4a1c-abb1-737c249e4127",
   "metadata": {},
   "outputs": [
    {
     "name": "stdout",
     "output_type": "stream",
     "text": [
      "['Invoice', 'StockCode', 'Description', 'Quantity', 'InvoiceDate', 'Price', 'Customer ID', 'Country']\n"
     ]
    }
   ],
   "source": [
    "print(df.columns.tolist())\n"
   ]
  },
  {
   "cell_type": "code",
   "execution_count": 13,
   "id": "61626163-9bb7-4c66-8166-43d2cba8ae3f",
   "metadata": {},
   "outputs": [],
   "source": [
    "df = df.rename(columns={\n",
    "    'Customer ID': 'CustomerID',\n",
    "    'Price': 'UnitPrice'\n",
    "})\n"
   ]
  },
  {
   "cell_type": "code",
   "execution_count": 15,
   "id": "3ef9b7bf-1c13-46f1-a85a-687edfd9f07a",
   "metadata": {},
   "outputs": [],
   "source": [
    "df.columns = df.columns.str.strip().str.replace(' ', '').str.lower()\n",
    "# Now: ['invoice','stockcode','description','quantity','invoicedate','price','customerid','country']\n"
   ]
  },
  {
   "cell_type": "code",
   "execution_count": 17,
   "id": "4f21db13-2e9c-4329-96bc-cc3bf64bc665",
   "metadata": {},
   "outputs": [],
   "source": [
    "df.columns = df.columns.str.strip().str.lower().str.replace(' ', '_')\n",
    "# => ['invoice', 'stockcode', 'description', 'quantity', 'invoice_date', 'price', 'customer_id', 'country']\n"
   ]
  },
  {
   "cell_type": "code",
   "execution_count": 19,
   "id": "3c2cb194-5da2-40ce-b100-3616155dece9",
   "metadata": {},
   "outputs": [],
   "source": [
    "df = pd.read_csv(\"C:\\\\Users\\\\Hi\\\\Downloads\\\\online_retail_II(Year 2010-2011).csv\"\n",
    "    ,\n",
    "    encoding=\"unicode_escape\",\n",
    "    names=['invoice','stockcode','description','quantity','invoicedate','unitprice','customerid','country'],\n",
    "    header=0,  # treat the first row as header\n",
    "    parse_dates=['invoicedate']\n",
    ")\n"
   ]
  },
  {
   "cell_type": "code",
   "execution_count": 21,
   "id": "b158f445-00dc-44a0-aad5-4f06fa36fa72",
   "metadata": {},
   "outputs": [],
   "source": [
    "df = df[df['customerid'].notna()]\n",
    "df = df[df['quantity'] > 0]\n",
    "df = df[df['unitprice'] > 0]\n",
    "df = df[~df['invoice'].str.startswith('C', na=False)]\n",
    "df['totalprice'] = df['quantity'] * df['unitprice']\n"
   ]
  },
  {
   "cell_type": "code",
   "execution_count": 23,
   "id": "418d395f-9f00-46a6-99b1-1da0e82d20ae",
   "metadata": {},
   "outputs": [
    {
     "name": "stdout",
     "output_type": "stream",
     "text": [
      "['invoice', 'stockcode', 'description', 'quantity', 'invoicedate', 'unitprice', 'customerid', 'country', 'totalprice']\n"
     ]
    }
   ],
   "source": [
    "print(df.columns.tolist())\n"
   ]
  },
  {
   "cell_type": "code",
   "execution_count": 25,
   "id": "5e9ddc56-eaba-4d0b-8122-c7a52a2cb8da",
   "metadata": {},
   "outputs": [],
   "source": [
    "from lifetimes.utils import summary_data_from_transaction_data\n",
    "\n",
    "summary = summary_data_from_transaction_data(\n",
    "    df,\n",
    "    customer_id_col='customerid',\n",
    "    datetime_col='invoicedate',\n",
    "    monetary_value_col='totalprice',\n",
    "    observation_period_end=df['invoicedate'].max()\n",
    ")\n",
    "\n",
    "# Optionally, filter to repeat customers\n",
    "summary = summary[summary['frequency'] > 0]\n"
   ]
  },
  {
   "cell_type": "code",
   "execution_count": 27,
   "id": "a559b18b-a825-415b-ade1-ba9deef76938",
   "metadata": {},
   "outputs": [],
   "source": [
    "from lifetimes import BetaGeoFitter\n",
    "\n",
    "bgf = BetaGeoFitter(penalizer_coef=0.001)\n",
    "bgf.fit(summary['frequency'], summary['recency'], summary['T'])\n",
    "\n",
    "# Predict next 6 months (≈180 days)\n",
    "summary['predicted_purchases_6mo'] = bgf.conditional_expected_number_of_purchases_up_to_time(\n",
    "    180,\n",
    "    summary['frequency'],\n",
    "    summary['recency'],\n",
    "    summary['T']\n",
    ")\n"
   ]
  },
  {
   "cell_type": "code",
   "execution_count": 29,
   "id": "9c9182ca-a59c-4e61-a3d2-ba39b46abd4e",
   "metadata": {},
   "outputs": [],
   "source": [
    "from lifetimes import GammaGammaFitter\n",
    "\n",
    "# Ensure frequency > 0\n",
    "monetary_summary = summary[summary['frequency'] > 0]\n",
    "\n",
    "ggf = GammaGammaFitter(penalizer_coef=0.01)\n",
    "ggf.fit(monetary_summary['frequency'], monetary_summary['monetary_value'])\n",
    "\n",
    "# Expected transaction value\n",
    "summary.loc[monetary_summary.index, 'expected_avg_purchase'] = ggf.conditional_expected_average_profit(\n",
    "    monetary_summary['frequency'],\n",
    "    monetary_summary['monetary_value']\n",
    ")\n"
   ]
  },
  {
   "cell_type": "code",
   "execution_count": 31,
   "id": "10584fb8-2497-4bc1-9978-4597a7172cdd",
   "metadata": {},
   "outputs": [],
   "source": [
    "summary['clv_6mo'] = ggf.customer_lifetime_value(\n",
    "    bgf,\n",
    "    summary['frequency'],\n",
    "    summary['recency'],\n",
    "    summary['T'],\n",
    "    summary['monetary_value'],\n",
    "    time=6,        # months\n",
    "    freq='D',\n",
    "    discount_rate=0.01\n",
    ")\n"
   ]
  },
  {
   "cell_type": "code",
   "execution_count": 33,
   "id": "027f41fb-ef21-4987-9b79-380999ffd453",
   "metadata": {},
   "outputs": [],
   "source": [
    "summary['segment'] = pd.qcut(\n",
    "    summary['clv_6mo'],\n",
    "    4,\n",
    "    labels=['Hibernating', 'Need Attention', 'Loyal', 'Champion']\n",
    ")\n"
   ]
  },
  {
   "cell_type": "code",
   "execution_count": 35,
   "id": "2a82744e-1489-4965-8e63-57794ad18183",
   "metadata": {},
   "outputs": [
    {
     "name": "stderr",
     "output_type": "stream",
     "text": [
      "2025-07-18 16:00:33.545 \n",
      "  \u001b[33m\u001b[1mWarning:\u001b[0m to view this Streamlit app on a browser, run it with the following\n",
      "  command:\n",
      "\n",
      "    streamlit run C:\\Users\\Hi\\anaconda3\\Lib\\site-packages\\ipykernel_launcher.py [ARGUMENTS]\n"
     ]
    }
   ],
   "source": [
    "# app.py\n",
    "import streamlit as st\n",
    "import pandas as pd\n",
    "from lifetimes import BetaGeoFitter, GammaGammaFitter\n",
    "from lifetimes.utils import summary_data_from_transaction_data\n",
    "\n",
    "st.title(\"Simple CLV Explorer\")\n",
    "\n",
    "uploaded = st.file_uploader(\"Upload cleaned CSV\", type=\"csv\")\n",
    "if uploaded:\n",
    "    df = pd.read_csv(uploaded, parse_dates=['invoicedate'])\n",
    "    df = df[df['frequency'] > 0]  # ensure repeat purchases\n",
    "\n",
    "    summary = summary_data_from_transaction_data(\n",
    "        df, 'customerid', 'invoicedate', 'totalprice',\n",
    "        observation_period_end=df['invoicedate'].max()\n",
    "    )\n",
    "\n",
    "    bgf = BetaGeoFitter(penalizer_coef=0.0)\n",
    "    bgf.fit(summary['frequency'], summary['recency'], summary['T'])\n",
    "\n",
    "    ggf = GammaGammaFitter(penalizer_coef=0.0)\n",
    "    ggf.fit(summary['frequency'], summary['monetary_value'])\n",
    "\n",
    "    months = st.slider(\"Months to predict CLV for:\", 1, 12, 6)\n",
    "    summary['clv'] = ggf.customer_lifetime_value(\n",
    "        bgf, summary['frequency'], summary['recency'], summary['T'],\n",
    "        summary['monetary_value'], time=months, freq='D', discount_rate=0.01\n",
    "    )\n",
    "\n",
    "    top = summary.nlargest(10, 'clv')[['clv']]\n",
    "    st.table(top)\n",
    "\n",
    "    st.download_button(\"Download CLV results\", summary.to_csv(), \"clv.csv\")\n"
   ]
  },
  {
   "cell_type": "code",
   "execution_count": null,
   "id": "468c0cb2-1db5-44b1-bf66-a8f4a80711f1",
   "metadata": {},
   "outputs": [],
   "source": []
  }
 ],
 "metadata": {
  "kernelspec": {
   "display_name": "Python 3 (ipykernel)",
   "language": "python",
   "name": "python3"
  },
  "language_info": {
   "codemirror_mode": {
    "name": "ipython",
    "version": 3
   },
   "file_extension": ".py",
   "mimetype": "text/x-python",
   "name": "python",
   "nbconvert_exporter": "python",
   "pygments_lexer": "ipython3",
   "version": "3.12.4"
  }
 },
 "nbformat": 4,
 "nbformat_minor": 5
}
